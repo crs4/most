{
 "metadata": {
  "name": "",
  "signature": "sha256:f8ec48a8a3d93bda430358d2b1b41d462082023a36c3292082910d2429e20b29"
 },
 "nbformat": 3,
 "nbformat_minor": 0,
 "worksheets": [
  {
   "cells": [
    {
     "cell_type": "heading",
     "level": 1,
     "metadata": {},
     "source": [
      "Users"
     ]
    },
    {
     "cell_type": "heading",
     "level": 2,
     "metadata": {},
     "source": [
      "Getting started"
     ]
    },
    {
     "cell_type": "heading",
     "level": 3,
     "metadata": {},
     "source": [
      "Download"
     ]
    },
    {
     "cell_type": "markdown",
     "metadata": {},
     "source": [
      "**Insert information on source**"
     ]
    },
    {
     "cell_type": "heading",
     "level": 3,
     "metadata": {},
     "source": [
      "Installation"
     ]
    },
    {
     "cell_type": "markdown",
     "metadata": {},
     "source": [
      "**Users** is a Django application, indipendent from any Django project.\n",
      "\n",
      "To use **Users** in your project, edit your settings.py file adding it to INSTALLED_APPS and properly setting AUTH_USER_MODEL, LOGIN_URL and LOGOUT_URL as follow:"
     ]
    },
    {
     "cell_type": "code",
     "collapsed": false,
     "input": [
      "INSTALLED_APPS = (\n",
      "    'django.contrib.admin',\n",
      "    'django.contrib.auth',\n",
      "    'django.contrib.contenttypes',\n",
      "    'django.contrib.sessions',\n",
      "    'django.contrib.messages',\n",
      "    'django.contrib.staticfiles',\n",
      "    # ...\n",
      "    # your apps go here\n",
      "    # ...\n",
      "    'users',\n",
      ")\n",
      "# ...\n",
      "AUTH_USER_MODEL = 'users.MostUser'\n",
      "\n",
      "LOGIN_URL = '/users/user/login/'\n",
      "LOGOUT_URL = '/users/user/logout/'"
     ],
     "language": "python",
     "metadata": {},
     "outputs": [],
     "prompt_number": 1
    },
    {
     "cell_type": "heading",
     "level": 3,
     "metadata": {},
     "source": [
      "API"
     ]
    },
    {
     "cell_type": "markdown",
     "metadata": {},
     "source": [
      "The following **HowTo** makes use of `requests` and `json` module.\n",
      "\n",
      "The sample blocks of code illustrate how to use them making use of the **[helper shown in this module](http://localhost:8888/notebooks/UsersHelper.ipynb)** (TODO)"
     ]
    },
    {
     "cell_type": "heading",
     "level": 4,
     "metadata": {},
     "source": [
      "TaskGroup module"
     ]
    },
    {
     "cell_type": "markdown",
     "metadata": {},
     "source": [
      "TaskGroup module provides the following web API:\n",
      "\n",
      "* `/users/task_group/search/`\n",
      "\n",
      "* `/users/task_group/new/`\n",
      "\n",
      "* `/users/task_group/(?P<task_group_id>\\d+)/edit/`\n",
      "\n",
      "* `/users/task_group/list_available_states/`\n",
      "\n",
      "* `/users/task_group/(?P<task_group_id>\\d+)/set_active_state/(?P<active_state>\\w+)/`\n",
      "\n",
      "* `/users/task_group/(?P<task_group_id>\\d+)/is_provider/`\n",
      "\n",
      "* `/users/task_group/(?P<task_group_id>\\d+)/set_provider/`\n",
      "\n",
      "* `/users/task_group/(?P<task_group_id>\\d+)/add_user/(?P<user_id>\\d+)/`\n",
      "\n",
      "* `/users/task_group/(?P<task_group_id>\\d+)/remove_user/(?P<user_id>\\d+)/`\n",
      "\n",
      "* `/users/task_group/(?P<task_group_id>\\d+)/list_users/`\n",
      "\n",
      "* `/users/task_group/(?P<task_group_id>\\d+)/add_related_task_group/(?P<related_task_group_id>\\d+)/`\n",
      "\n",
      "* `/users/task_group/(?P<task_group_id>\\d+)/remove_related_task_group/(?P<related_task_group_id>\\d+)/`\n",
      "\n",
      "* `/users/task_group/(?P<task_group_id>\\d+)/list_related_task_groups/`\n",
      "\n",
      "* `/users/task_group/(?P<task_group_id>\\d+)/has_clinicians/`\n",
      "\n",
      "* `/users/task_group/(?P<task_group_id>\\d+)/list_clinicians/`\n",
      "\n",
      "* `/users/task_group/(?P<task_group_id>\\d+)/has_clinician_provider/`\n",
      "\n",
      "* `/users/task_group/(?P<task_group_id>\\d+)/list_clinician_providers/`"
     ]
    },
    {
     "cell_type": "code",
     "collapsed": false,
     "input": [
      "# -*- coding: utf-8 -*-\n",
      "from helper import *\n",
      "\n",
      "# CODE"
     ],
     "language": "python",
     "metadata": {},
     "outputs": []
    },
    {
     "cell_type": "heading",
     "level": 4,
     "metadata": {},
     "source": [
      "MostUser module"
     ]
    },
    {
     "cell_type": "markdown",
     "metadata": {},
     "source": [
      "MostUser module provides the following web API:\n",
      "\n",
      "* `/users/user/new/`\n",
      "\n",
      "* `/users/user/login/`\n",
      "\n",
      "* `/users/user/logout/`\n",
      "\n",
      "* `/users/user/(?P<user_id>\\d+)/get_user_info/`\n",
      "\n",
      "* `/users/user/search/`\n",
      "\n",
      "* `/users/user/(?P<user_id>\\d+)/edit/`\n",
      "\n",
      "* `/users/user/(?P<user_id>\\d+)/deactivate/`\n",
      "\n",
      "* `/users/user/(?P<user_id>\\d+)/activate/`"
     ]
    },
    {
     "cell_type": "code",
     "collapsed": false,
     "input": [
      "# -*- coding: utf-8 -*-\n",
      "\n",
      "# API: /users/user/new/\n",
      "\n",
      "from helper import *\n",
      "\n",
      "\n",
      "USER_DATA = {\n",
      "    'username': 'mario.rossi',\n",
      "    'first_name': 'Mario',\n",
      "    'last_name': 'Rossi',\n",
      "    'email': 'mario.rossi@most.crs4.it',\n",
      "    'birth_date': '1980-07-08',\n",
      "    'is_active': True,\n",
      "    'is_admin': False,\n",
      "    'numeric_password': 1234,\n",
      "    'user_type': 'CL',\n",
      "    'gender': 'M',\n",
      "    'phone': '070789456',\n",
      "    'mobile': '888987654',\n",
      "}\n",
      "\n",
      "user = compose_post_request('/users/user/new/', USER_DATA)\n",
      "print_response_data('user', user)"
     ],
     "language": "python",
     "metadata": {},
     "outputs": []
    },
    {
     "cell_type": "heading",
     "level": 4,
     "metadata": {},
     "source": [
      "ClinicianUser"
     ]
    },
    {
     "cell_type": "markdown",
     "metadata": {},
     "source": [
      "ClinicianUser module provides the following web API:\n",
      "\n",
      "* `/users/clinician_user/(?P<user_id>\\d+)/is_provider/`\n",
      "\n",
      "* `/users/clinician_user/(?P<user_id>\\d+)/set_provider/`\n",
      "\n",
      "* `/users/clinician_user/search/`\n",
      "\n",
      "* `/users/clinician_user/(?P<user_id>\\d+)/get_user_info/`"
     ]
    },
    {
     "cell_type": "code",
     "collapsed": false,
     "input": [
      "# -*- coding: utf-8 -*-\n",
      "from helper import *\n",
      "\n",
      "# CODE"
     ],
     "language": "python",
     "metadata": {},
     "outputs": []
    }
   ],
   "metadata": {}
  }
 ]
}