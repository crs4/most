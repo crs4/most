{
 "metadata": {
  "name": "",
  "signature": "sha256:09d33fb0867e9afeb0612765fe97bb3c5ec03e00f36bed20ba10b1a89f6661d0"
 },
 "nbformat": 3,
 "nbformat_minor": 0,
 "worksheets": [
  {
   "cells": [
    {
     "cell_type": "heading",
     "level": 1,
     "metadata": {},
     "source": [
      "Users"
     ]
    },
    {
     "cell_type": "heading",
     "level": 2,
     "metadata": {},
     "source": [
      "Getting started"
     ]
    },
    {
     "cell_type": "heading",
     "level": 3,
     "metadata": {},
     "source": [
      "Download"
     ]
    },
    {
     "cell_type": "markdown",
     "metadata": {},
     "source": [
      "**Insert information on source**"
     ]
    },
    {
     "cell_type": "heading",
     "level": 3,
     "metadata": {},
     "source": [
      "Installation"
     ]
    },
    {
     "cell_type": "markdown",
     "metadata": {},
     "source": [
      "**Users** is a Django application, indipendent from any Django project.\n",
      "\n",
      "To use **Users** in your project, edit your settings.py file adding it to INSTALLED_APPS and properly setting AUTH_USER_MODEL, LOGIN_URL and LOGOUT_URL as follow:"
     ]
    },
    {
     "cell_type": "code",
     "collapsed": false,
     "input": [
      "INSTALLED_APPS = (\n",
      "    'django.contrib.admin',\n",
      "    'django.contrib.auth',\n",
      "    'django.contrib.contenttypes',\n",
      "    'django.contrib.sessions',\n",
      "    'django.contrib.messages',\n",
      "    'django.contrib.staticfiles',\n",
      "    # ...\n",
      "    # your apps go here\n",
      "    # ...\n",
      "    'users',\n",
      ")\n",
      "# ...\n",
      "AUTH_USER_MODEL = 'users.MostUser'\n",
      "\n",
      "LOGIN_URL = '/users/user/login/'\n",
      "LOGOUT_URL = '/users/user/logout/'"
     ],
     "language": "python",
     "metadata": {},
     "outputs": []
    },
    {
     "cell_type": "heading",
     "level": 3,
     "metadata": {},
     "source": [
      "API"
     ]
    },
    {
     "cell_type": "markdown",
     "metadata": {},
     "source": [
      "The following **HowTo** makes use of `requests` and `json` module.\n",
      "\n",
      "The sample blocks of code illustrate how to use them making use of the **[helper shown in this module](http://localhost:8888/notebooks/UsersHelper.ipynb)** (TODO)\n",
      "\n",
      "Verify that the istance with **MOST** library is up and running."
     ]
    },
    {
     "cell_type": "heading",
     "level": 4,
     "metadata": {},
     "source": [
      "TaskGroup module"
     ]
    },
    {
     "cell_type": "markdown",
     "metadata": {},
     "source": [
      "TaskGroup module provides the following web API:\n",
      "\n",
      "* `/users/task_group/search/`\n",
      "\n",
      "* `/users/task_group/new/`\n",
      "\n",
      "* `/users/task_group/(?P<task_group_id>\\d+)/edit/`\n",
      "\n",
      "* `/users/task_group/list_available_states/`\n",
      "\n",
      "* `/users/task_group/(?P<task_group_id>\\d+)/set_active_state/(?P<active_state>\\w+)/`\n",
      "\n",
      "* `/users/task_group/(?P<task_group_id>\\d+)/is_provider/`\n",
      "\n",
      "* `/users/task_group/(?P<task_group_id>\\d+)/set_provider/`\n",
      "\n",
      "* `/users/task_group/(?P<task_group_id>\\d+)/add_user/(?P<user_id>\\d+)/`\n",
      "\n",
      "* `/users/task_group/(?P<task_group_id>\\d+)/remove_user/(?P<user_id>\\d+)/`\n",
      "\n",
      "* `/users/task_group/(?P<task_group_id>\\d+)/list_users/`\n",
      "\n",
      "* `/users/task_group/(?P<task_group_id>\\d+)/add_related_task_group/(?P<related_task_group_id>\\d+)/`\n",
      "\n",
      "* `/users/task_group/(?P<task_group_id>\\d+)/remove_related_task_group/(?P<related_task_group_id>\\d+)/`\n",
      "\n",
      "* `/users/task_group/(?P<task_group_id>\\d+)/list_related_task_groups/`\n",
      "\n",
      "* `/users/task_group/(?P<task_group_id>\\d+)/has_clinicians/`\n",
      "\n",
      "* `/users/task_group/(?P<task_group_id>\\d+)/list_clinicians/`\n",
      "\n",
      "* `/users/task_group/(?P<task_group_id>\\d+)/has_clinician_provider/`\n",
      "\n",
      "* `/users/task_group/(?P<task_group_id>\\d+)/list_clinician_providers/`"
     ]
    },
    {
     "cell_type": "code",
     "collapsed": false,
     "input": [
      "# -*- coding: utf-8 -*-\n",
      "from helper import *\n",
      "\n",
      "# CODE"
     ],
     "language": "python",
     "metadata": {},
     "outputs": []
    },
    {
     "cell_type": "heading",
     "level": 4,
     "metadata": {},
     "source": [
      "MostUser module"
     ]
    },
    {
     "cell_type": "markdown",
     "metadata": {},
     "source": [
      "MostUser module provides the following web API:\n",
      "\n",
      "* `/users/user/login/`\n",
      "\n",
      "* run login api before run the following:\n",
      "\n",
      "    * `/users/user/new/`\n",
      "\n",
      "    * `/users/user/(?P<user_id>\\d+)/get_user_info/`\n",
      "\n",
      "    * `/users/user/search/`\n",
      "\n",
      "    * `/users/user/(?P<user_id>\\d+)/edit/`\n",
      "\n",
      "    * `/users/user/(?P<user_id>\\d+)/deactivate/`\n",
      "\n",
      "    * `/users/user/(?P<user_id>\\d+)/activate/`\n",
      "    \n",
      "    * `/users/user/logout/`"
     ]
    },
    {
     "cell_type": "code",
     "collapsed": false,
     "input": [
      "# -*- coding: utf-8 -*-\n",
      "\n",
      "# API: /users/user/login/\n",
      "\n",
      "from helper import *\n",
      "\n",
      "\n",
      "USER_DATA = {\n",
      "    'username': 'valeria',\n",
      "    'password': 'valleria',\n",
      "}\n",
      "\n",
      "user = compose_post_request('/users/user/login/', USER_DATA)\n",
      "print_response_data('user', user)"
     ],
     "language": "python",
     "metadata": {},
     "outputs": [
      {
       "output_type": "stream",
       "stream": "stdout",
       "text": [
        "Calling /users/user/login/\n",
        "\n",
        "JSON response: {u'message': u'Welcome valeria.', u'data': {u'username': u'valeria', u'first_name': u'Valeria', u'last_name': u'Lecca', u'uid': u'41868dbbddbba04df199f28f13b58daa68d4fb54', u'certified_email': None, u'mobile': u'888987654', u'gender': {u'key': u'F', u'value': u'Female'}, u'is_active': True, u'user_type': {u'key': u'TE', u'value': u'Technician'}, u'email': u'valeria.lecca@most.crs4.it', u'phone': u'070789456', u'is_staff': True, u'is_admin': True, u'birth_date': u'11 Jun 1980', u'id': u'1'}, u'success': True}\n"
       ]
      },
      {
       "output_type": "stream",
       "stream": "stdout",
       "text": [
        "\n",
        "user data:\n",
        "{\n",
        "    \"birth_date\": \"11 Jun 1980\",\n",
        "    \"certified_email\": null,\n",
        "    \"email\": \"valeria.lecca@most.crs4.it\",\n",
        "    \"first_name\": \"Valeria\",\n",
        "    \"gender\": {\n",
        "        \"key\": \"F\",\n",
        "        \"value\": \"Female\"\n",
        "    },\n",
        "    \"id\": \"1\",\n",
        "    \"is_active\": true,\n",
        "    \"is_admin\": true,\n",
        "    \"is_staff\": true,\n",
        "    \"last_name\": \"Lecca\",\n",
        "    \"mobile\": \"888987654\",\n",
        "    \"phone\": \"070789456\",\n",
        "    \"uid\": \"41868dbbddbba04df199f28f13b58daa68d4fb54\",\n",
        "    \"user_type\": {\n",
        "        \"key\": \"TE\",\n",
        "        \"value\": \"Technician\"\n",
        "    },\n",
        "    \"username\": \"valeria\"\n",
        "}\n"
       ]
      }
     ],
     "prompt_number": 2
    },
    {
     "cell_type": "heading",
     "level": 5,
     "metadata": {},
     "source": [
      "After login API"
     ]
    },
    {
     "cell_type": "code",
     "collapsed": false,
     "input": [
      "# -*- coding: utf-8 -*-\n",
      "\n",
      "# API: /users/user/new/\n",
      "\n",
      "from helper import *\n",
      "\n",
      "\n",
      "USER_DATA = {\n",
      "    'username': 'mario.rossi',\n",
      "    'first_name': 'Mario',\n",
      "    'last_name': 'Rossi',\n",
      "    'email': 'mario.rossi@most.crs4.it',\n",
      "    'birth_date': '1980-07-08',\n",
      "    'is_active': True,\n",
      "    'is_admin': False,\n",
      "    'numeric_password': 1234,\n",
      "    'user_type': 'CL',\n",
      "    'gender': 'M',\n",
      "    'phone': '070789456',\n",
      "    'mobile': '888987654',\n",
      "}\n",
      "\n",
      "user = compose_post_request('/users/user/new/', USER_DATA)\n",
      "print_response_data('user', user)"
     ],
     "language": "python",
     "metadata": {},
     "outputs": []
    },
    {
     "cell_type": "code",
     "collapsed": false,
     "input": [
      "# -*- coding: utf-8 -*-\n",
      "\n",
      "# API: /users/user/(?P<user_id>\\d+)/get_user_info/\n",
      "\n",
      "from helper import *\n",
      "\n",
      "USER_ID = 1\n",
      "\n",
      "user = compose_get_request('/users/user/%d/get_user_info/' % USER_ID)\n",
      "print_response_data('user', user)"
     ],
     "language": "python",
     "metadata": {},
     "outputs": []
    },
    {
     "cell_type": "code",
     "collapsed": false,
     "input": [
      "# -*- coding: utf-8 -*-\n",
      "\n",
      "# API: /users/user/search/\n",
      "\n",
      "from helper import *\n",
      "\n",
      "QUERY_STRING = 'test'\n",
      "\n",
      "users = compose_get_request('/users/user/search/', QUERY_STRING)\n",
      "print_response_data('user', users)"
     ],
     "language": "python",
     "metadata": {},
     "outputs": []
    },
    {
     "cell_type": "code",
     "collapsed": false,
     "input": [
      "# -*- coding: utf-8 -*-\n",
      "\n",
      "# API: /users/user/(?P<user_id>\\d+)/edit/\n",
      "\n",
      "from helper import *\n",
      "\n",
      "USER_ID = 1\n",
      "USER_DATA = {\n",
      "    'username': 'valeria',\n",
      "    'first_name': 'Valeria',\n",
      "    'last_name': 'Lecca',\n",
      "    'email': 'valeria.lecca@most.crs4.it',\n",
      "    'birth_date': '1980-06-11',\n",
      "    'is_active': True,\n",
      "    'is_admin': True,\n",
      "    'numeric_password': 1234,\n",
      "    'user_type': 'TE',\n",
      "    'gender': 'F',\n",
      "    'phone': '070789456',\n",
      "    'mobile': '888987654',\n",
      "}\n",
      "\n",
      "user = compose_post_request('/users/user/%d/edit/' % USER_ID, USER_DATA)\n",
      "print_response_data('user', user)"
     ],
     "language": "python",
     "metadata": {},
     "outputs": []
    },
    {
     "cell_type": "code",
     "collapsed": false,
     "input": [
      "# -*- coding: utf-8 -*-\n",
      "\n",
      "# API: /users/user/(?P<user_id>\\d+)/deactivate/\n",
      "\n",
      "from helper import *\n",
      "\n",
      "USER_ID = 9\n",
      "\n",
      "user = compose_get_request('/users/user/%d/deactivate/' % USER_ID)\n",
      "print_response_data('user', user)"
     ],
     "language": "python",
     "metadata": {},
     "outputs": [
      {
       "output_type": "stream",
       "stream": "stdout",
       "text": [
        "<requests.sessions.Session object at 0x1d7dbd0>\n",
        "Calling /users/user/9/deactivate/\n",
        "\n",
        "JSON response: {u'message': u'User 9 deactivated', u'data': {u'is_active': False, u'id': u'9'}, u'success': True}\n"
       ]
      },
      {
       "output_type": "stream",
       "stream": "stdout",
       "text": [
        "\n",
        "user data:\n",
        "{\n",
        "    \"id\": \"9\",\n",
        "    \"is_active\": false\n",
        "}\n"
       ]
      }
     ],
     "prompt_number": 15
    },
    {
     "cell_type": "code",
     "collapsed": false,
     "input": [
      "# -*- coding: utf-8 -*-\n",
      "\n",
      "# API: /users/user/(?P<user_id>\\d+)/activate/\n",
      "\n",
      "from helper import *\n",
      "\n",
      "USER_ID = 9\n",
      "\n",
      "user = compose_post_request('/users/user/%d/activate/' % USER_ID)\n",
      "print_response_data('user', user)"
     ],
     "language": "python",
     "metadata": {},
     "outputs": [
      {
       "output_type": "stream",
       "stream": "stdout",
       "text": [
        "Calling /users/user/9/activate/\n",
        "\n",
        "JSON response: {u'message': u'User 9 deactivated', u'data': {u'is_active': True, u'id': u'9'}, u'success': True}\n"
       ]
      },
      {
       "output_type": "stream",
       "stream": "stdout",
       "text": [
        "\n",
        "user data:\n",
        "{\n",
        "    \"id\": \"9\",\n",
        "    \"is_active\": true\n",
        "}\n"
       ]
      }
     ],
     "prompt_number": 3
    },
    {
     "cell_type": "code",
     "collapsed": false,
     "input": [
      "# -*- coding: utf-8 -*-\n",
      "\n",
      "# API: /users/user/logout/\n",
      "\n",
      "from helper import *\n",
      "\n",
      "\n",
      "response_content = compose_get_request('/users/user/logout/')\n",
      "print_response_data('user', response_content)"
     ],
     "language": "python",
     "metadata": {},
     "outputs": []
    },
    {
     "cell_type": "heading",
     "level": 4,
     "metadata": {},
     "source": [
      "ClinicianUser"
     ]
    },
    {
     "cell_type": "markdown",
     "metadata": {},
     "source": [
      "ClinicianUser module provides the following web API:\n",
      "\n",
      "* `/users/clinician_user/(?P<user_id>\\d+)/is_provider/`\n",
      "\n",
      "* `/users/clinician_user/(?P<user_id>\\d+)/set_provider/`\n",
      "\n",
      "* `/users/clinician_user/search/`\n",
      "\n",
      "* `/users/clinician_user/(?P<user_id>\\d+)/get_user_info/`"
     ]
    },
    {
     "cell_type": "code",
     "collapsed": false,
     "input": [
      "# -*- coding: utf-8 -*-\n",
      "from helper import *\n",
      "\n",
      "# CODE"
     ],
     "language": "python",
     "metadata": {},
     "outputs": []
    }
   ],
   "metadata": {}
  }
 ]
}